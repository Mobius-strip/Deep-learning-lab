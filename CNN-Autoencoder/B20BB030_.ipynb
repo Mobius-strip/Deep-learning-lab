{
  "cells": [
    {
      "cell_type": "markdown",
      "metadata": {
        "id": "WwSwCFHMjkar"
      },
      "source": [
        "# **CNN**"
      ]
    },
    {
      "cell_type": "code",
      "execution_count": 24,
      "metadata": {
        "id": "f61ig7P-jkar"
      },
      "outputs": [],
      "source": [
        "import numpy as np\n",
        "import pandas as pd\n",
        "import matplotlib.pyplot as plt\n",
        "\n",
        "import torch\n",
        "import torch.nn as nn\n",
        "from torch.autograd import Variable\n",
        "\n",
        "import torchvision\n",
        "import torchvision.transforms as transforms\n",
        "from torch.utils.data import Dataset, DataLoader\n",
        "from sklearn.metrics import confusion_matrix"
      ]
    },
    {
      "cell_type": "code",
      "source": [
        "class AddGaussianNoise(object):\n",
        "    def __init__(self, mean=0., std=1.):\n",
        "        self.std = std\n",
        "        self.mean = mean\n",
        "        \n",
        "    def __call__(self, tensor):\n",
        "        return tensor + torch.randn(tensor.size()) * self.std + self.mean\n",
        "    \n",
        "    def __repr__(self):\n",
        "        return self.__class__.__name__ + '(mean={0}, std={1})'.format(self.mean, self.std)"
      ],
      "metadata": {
        "id": "a_1blEx4jkar"
      },
      "execution_count": 25,
      "outputs": []
    },
    {
      "cell_type": "code",
      "execution_count": 26,
      "metadata": {
        "id": "gX5F-jivjkas"
      },
      "outputs": [],
      "source": [
        "device = torch.device(\"cuda:0\" if torch.cuda.is_available() else \"cpu\")"
      ]
    },
    {
      "cell_type": "code",
      "source": [
        "import torch\n",
        "import torch.nn as nn\n",
        "import torch.nn.functional as F\n",
        "import torch.optim as optim\n",
        "from torchvision import datasets, transforms\n",
        "import numpy as np\n",
        "\n",
        "# Define a transform to augment the data\n",
        "\n",
        "transform1 = transforms.Compose([\n",
        "    #transforms.RandomRotation(10),\n",
        "    \n",
        "    transforms.ToTensor(),\n",
        "    #AddGaussianNoise(0., 1.)\n",
        "    transforms.Normalize((0.5,), (0.5,))\n",
        "])\n",
        "transform2 = transforms.Compose([\n",
        "    transforms.RandomRotation(10),\n",
        "    \n",
        "    transforms.ToTensor(),\n",
        "    #AddGaussianNoise(0., 1.)\n",
        "    transforms.Normalize((0.5,), (0.5,))\n",
        "])\n",
        "transform3 = transforms.Compose([\n",
        "    #transforms.RandomRotation(10),\n",
        "    \n",
        "    transforms.ToTensor(),\n",
        "    AddGaussianNoise(0., 1.),\n",
        "    transforms.Normalize((0.5,), (0.5,))\n",
        "])\n",
        "\n",
        "# Load the Fashion MNIST dataset\n",
        "train_dataset1 = datasets.FashionMNIST(\"data/\", train=True, download=True, transform=transform1)\n",
        "test_dataset1 = datasets.FashionMNIST(\"data/\", train=False, download=True, transform=transform1)\n",
        "\n",
        "train_dataset2 = datasets.FashionMNIST(\"data/\", train=True, download=True, transform=transform2)\n",
        "test_dataset2= datasets.FashionMNIST(\"data/\", train=False, download=True, transform=transform2)\n",
        "\n",
        "train_dataset3 = datasets.FashionMNIST(\"data/\", train=True, download=True, transform=transform3)\n",
        "test_dataset3 = datasets.FashionMNIST(\"data/\", train=False, download=True, transform=transform3)\n",
        "\n",
        "device = torch.device(\"cuda:0\" if torch.cuda.is_available() else \"cpu\")"
      ],
      "metadata": {
        "id": "MyPZT6Fujkas"
      },
      "execution_count": 27,
      "outputs": []
    },
    {
      "cell_type": "code",
      "source": [
        "def filter(train_dataset) : \n",
        "      \n",
        "\n",
        "      new_train_target=[]\n",
        "      for label in train_dataset.targets:\n",
        "        if(label.item()==1):\n",
        "          tensor = torch.tensor([0])\n",
        "          new_train_target.append(tensor.squeeze(0))\n",
        "        if(label.item()==3):\n",
        "          tensor = torch.tensor([1])\n",
        "          new_train_target.append(tensor.squeeze(0))\n",
        "\n",
        "        if(label.item()==5):\n",
        "          tensor = torch.tensor([2])\n",
        "          new_train_target.append(tensor.squeeze(0))\n",
        "\n",
        "        if(label.item()==7):\n",
        "          tensor = torch.tensor([3])\n",
        "          new_train_target.append(tensor.squeeze(0))\n",
        "\n",
        "        if(label.item()==9):\n",
        "          tensor = torch.tensor([4])\n",
        "          new_train_target.append(tensor.squeeze(0))\n",
        "          \n",
        "        if(label.item()==0):\n",
        "          tensor = torch.tensor([20])\n",
        "          new_train_target.append(tensor.squeeze(0))\n",
        "        if(label.item()==2):\n",
        "          tensor = torch.tensor([21])\n",
        "          new_train_target.append(tensor.squeeze(0))\n",
        "\n",
        "        if(label.item()==4):\n",
        "          tensor = torch.tensor([22])\n",
        "          new_train_target.append(tensor.squeeze(0))\n",
        "\n",
        "        if(label.item()==6):\n",
        "          tensor = torch.tensor([23])\n",
        "          new_train_target.append(tensor.squeeze(0))\n",
        "\n",
        "        if(label.item()==8):\n",
        "          tensor = torch.tensor([24])\n",
        "          new_train_target.append(tensor.squeeze(0))\n",
        "\n",
        "\n",
        "        train_dataset.targets=new_train_target  \n",
        "\n",
        "      return train_dataset"
      ],
      "metadata": {
        "id": "LyV5rWWMjkas"
      },
      "execution_count": 28,
      "outputs": []
    },
    {
      "cell_type": "code",
      "source": [
        "train_dataset1 = filter(train_dataset1)\n",
        "test_dataset1  = filter(test_dataset1)\n",
        "\n",
        "train_dataset2 = filter(train_dataset2 )\n",
        "test_dataset2=  filter(test_dataset2)\n",
        "\n",
        "train_dataset3 = filter(train_dataset3)\n",
        "test_dataset3 = filter(test_dataset3)"
      ],
      "metadata": {
        "id": "rKDWZENCjkas"
      },
      "execution_count": 29,
      "outputs": []
    },
    {
      "cell_type": "code",
      "source": [
        "def return_indices(train_set):\n",
        "\n",
        "    indices=[]\n",
        "    l=[0,1,2,3,4]\n",
        "    for i in range(len(train_set.targets)):\n",
        "      if(train_set.targets[i] in l ):\n",
        "        indices.append(i)\n",
        "    return indices    \n",
        "\n"
      ],
      "metadata": {
        "id": "AQt1I_Zqjkas"
      },
      "execution_count": 30,
      "outputs": []
    },
    {
      "cell_type": "code",
      "source": [
        "indices2=return_indices(train_dataset2)"
      ],
      "metadata": {
        "id": "hl2RJ1Shjkas"
      },
      "execution_count": 31,
      "outputs": []
    },
    {
      "cell_type": "code",
      "source": [
        "data2=[]\n",
        "target2=[]\n",
        "for index in indices2:\n",
        "  target2.append(train_dataset2.targets[index])\n",
        "  data2.append(train_dataset2.data[index])"
      ],
      "metadata": {
        "id": "6F91uolRjkas"
      },
      "execution_count": 32,
      "outputs": []
    },
    {
      "cell_type": "code",
      "source": [
        "indices3=return_indices(train_dataset3)\n",
        "\n",
        "for index in indices3:\n",
        "  target2.append(train_dataset3.targets[index])\n",
        "  data2.append(train_dataset3.data[index])"
      ],
      "metadata": {
        "id": "9x6X7usDjkas"
      },
      "execution_count": 33,
      "outputs": []
    },
    {
      "cell_type": "code",
      "source": [
        "indices1=return_indices(train_dataset1)\n",
        "\n",
        "for index in indices1:\n",
        "  target2.append(train_dataset1.targets[index])\n",
        "  data2.append(train_dataset1.data[index])"
      ],
      "metadata": {
        "id": "rgXyVewRjkas"
      },
      "execution_count": 34,
      "outputs": []
    },
    {
      "cell_type": "code",
      "source": [
        "data2t = torch.stack(data2)"
      ],
      "metadata": {
        "id": "X3HY8YY3jkat"
      },
      "execution_count": 35,
      "outputs": []
    },
    {
      "cell_type": "code",
      "source": [
        "train_dataset1.targets=target2\n",
        "train_dataset1.data=data2t\n"
      ],
      "metadata": {
        "id": "jQXA4mO7jkat"
      },
      "execution_count": 36,
      "outputs": []
    },
    {
      "cell_type": "code",
      "source": [
        "len(train_dataset1)"
      ],
      "metadata": {
        "colab": {
          "base_uri": "https://localhost:8080/"
        },
        "outputId": "2c742ea8-3154-48d2-e5de-4309442afdbc",
        "id": "jcqXG3wVjkat"
      },
      "execution_count": 37,
      "outputs": [
        {
          "output_type": "execute_result",
          "data": {
            "text/plain": [
              "90000"
            ]
          },
          "metadata": {},
          "execution_count": 37
        }
      ]
    },
    {
      "cell_type": "code",
      "source": [
        "train_dataset1.data"
      ],
      "metadata": {
        "colab": {
          "base_uri": "https://localhost:8080/"
        },
        "outputId": "18e59937-49ce-4ab3-e534-08a8f56ec77e",
        "id": "BkYHMu3qjkat"
      },
      "execution_count": 38,
      "outputs": [
        {
          "output_type": "execute_result",
          "data": {
            "text/plain": [
              "tensor([[[0, 0, 0,  ..., 0, 0, 0],\n",
              "         [0, 0, 0,  ..., 0, 0, 0],\n",
              "         [0, 0, 0,  ..., 0, 0, 0],\n",
              "         ...,\n",
              "         [0, 0, 0,  ..., 0, 0, 0],\n",
              "         [0, 0, 0,  ..., 0, 0, 0],\n",
              "         [0, 0, 0,  ..., 0, 0, 0]],\n",
              "\n",
              "        [[0, 0, 0,  ..., 0, 0, 0],\n",
              "         [0, 0, 0,  ..., 0, 0, 0],\n",
              "         [0, 0, 0,  ..., 0, 0, 0],\n",
              "         ...,\n",
              "         [0, 0, 0,  ..., 0, 0, 0],\n",
              "         [0, 0, 0,  ..., 0, 0, 0],\n",
              "         [0, 0, 0,  ..., 0, 0, 0]],\n",
              "\n",
              "        [[0, 0, 0,  ..., 0, 0, 0],\n",
              "         [0, 0, 0,  ..., 0, 0, 0],\n",
              "         [0, 0, 0,  ..., 0, 0, 0],\n",
              "         ...,\n",
              "         [0, 0, 0,  ..., 0, 0, 0],\n",
              "         [0, 0, 0,  ..., 0, 0, 0],\n",
              "         [0, 0, 0,  ..., 0, 0, 0]],\n",
              "\n",
              "        ...,\n",
              "\n",
              "        [[0, 0, 0,  ..., 0, 0, 0],\n",
              "         [0, 0, 0,  ..., 0, 0, 0],\n",
              "         [0, 0, 0,  ..., 0, 0, 0],\n",
              "         ...,\n",
              "         [0, 0, 0,  ..., 0, 0, 0],\n",
              "         [0, 0, 0,  ..., 0, 0, 0],\n",
              "         [0, 0, 0,  ..., 0, 0, 0]],\n",
              "\n",
              "        [[0, 0, 0,  ..., 0, 0, 0],\n",
              "         [0, 0, 0,  ..., 0, 0, 0],\n",
              "         [0, 0, 0,  ..., 0, 0, 0],\n",
              "         ...,\n",
              "         [0, 0, 0,  ..., 0, 0, 0],\n",
              "         [0, 0, 0,  ..., 0, 0, 0],\n",
              "         [0, 0, 0,  ..., 0, 0, 0]],\n",
              "\n",
              "        [[0, 0, 0,  ..., 0, 0, 0],\n",
              "         [0, 0, 0,  ..., 0, 0, 0],\n",
              "         [0, 0, 0,  ..., 0, 0, 0],\n",
              "         ...,\n",
              "         [0, 0, 0,  ..., 0, 0, 0],\n",
              "         [0, 0, 0,  ..., 0, 0, 0],\n",
              "         [0, 0, 0,  ..., 0, 0, 0]]], dtype=torch.uint8)"
            ]
          },
          "metadata": {},
          "execution_count": 38
        }
      ]
    },
    {
      "cell_type": "code",
      "source": [
        "data2=[]\n",
        "target2=[]\n",
        "\n",
        "indices2=return_indices(test_dataset2)\n",
        "for index in indices2:\n",
        "  target2.append(test_dataset2.targets[index])\n",
        "  data2.append(test_dataset2.data[index])\n",
        "\n",
        "indices3=return_indices(test_dataset3)\n",
        "\n",
        "for index in indices3:\n",
        "  target2.append(test_dataset3.targets[index])\n",
        "  data2.append(test_dataset3.data[index])  \n",
        "\n",
        "indices1=return_indices(test_dataset1)\n",
        "\n",
        "for index in indices1:\n",
        "  target2.append(test_dataset1.targets[index])\n",
        "  data2.append(test_dataset1.data[index])  \n",
        "\n",
        "data2t = torch.stack(data2)  \n",
        "\n",
        "test_dataset1.targets=target2\n",
        "test_dataset1.data=data2t"
      ],
      "metadata": {
        "id": "E3uz769Yjkat"
      },
      "execution_count": 39,
      "outputs": []
    },
    {
      "cell_type": "code",
      "source": [
        "train_loader = torch.utils.data.DataLoader(train_dataset1, batch_size=100, shuffle=True)"
      ],
      "metadata": {
        "id": "GfUG3cSjjkat"
      },
      "execution_count": 40,
      "outputs": []
    },
    {
      "cell_type": "code",
      "source": [
        "test_loader = torch.utils.data.DataLoader(test_dataset1, batch_size=100, shuffle=True)"
      ],
      "metadata": {
        "id": "9-mPbdPLjkat"
      },
      "execution_count": 41,
      "outputs": []
    },
    {
      "cell_type": "markdown",
      "source": [],
      "metadata": {
        "id": "ucuCD_rWjkat"
      }
    },
    {
      "cell_type": "markdown",
      "metadata": {
        "id": "a8qhBoBZjkat"
      },
      "source": [
        "### We have 5 types of clothes in FashionMNIST dataset.\n",
        "\n",
        "\n",
        "> Making a method that return the name of class for the label number.\n",
        "ex. if the label is 2, we return Sandal.\n",
        "\n"
      ]
    },
    {
      "cell_type": "code",
      "execution_count": 42,
      "metadata": {
        "id": "ZXWm7-scjkat"
      },
      "outputs": [],
      "source": [
        "def output_label(label):\n",
        "    output_mapping = {\n",
        "                 0: \"Trouser\",\n",
        "                 1: \"dress\",\n",
        "                 2: \"sandle\",\n",
        "                 3: \"sneaker\",\n",
        "                 4: \"ankle boot\", \n",
        "    \n",
        "                 }\n",
        "    input = (label.item() if type(label) == torch.Tensor else label)\n",
        "    return output_mapping[input]"
      ]
    },
    {
      "cell_type": "markdown",
      "metadata": {
        "id": "4SfsxOX4peHU"
      },
      "source": [
        "### We have 5 types of clothes in FashionMNIST dataset.\n",
        "\n",
        "\n",
        "> Making a method that return the name of class for the label number.\n",
        "ex. if the label is 2, we return Sandal.\n",
        "\n"
      ]
    },
    {
      "cell_type": "code",
      "execution_count": 43,
      "metadata": {
        "id": "uWIE3hVqOlMi"
      },
      "outputs": [],
      "source": [
        "def output_label(label):\n",
        "    output_mapping = {\n",
        "                 0: \"Trouser\",\n",
        "                 1: \"dress\",\n",
        "                 2: \"sandle\",\n",
        "                 3: \"sneaker\",\n",
        "                 4: \"ankle boot\", \n",
        "    \n",
        "                 }\n",
        "    input = (label.item() if type(label) == torch.Tensor else label)\n",
        "    return output_mapping[input]"
      ]
    },
    {
      "cell_type": "markdown",
      "source": [
        "# model definition"
      ],
      "metadata": {
        "id": "Nmpm42aAT2ic"
      }
    },
    {
      "cell_type": "code",
      "execution_count": 44,
      "metadata": {
        "id": "hyCH0Q4hSgFB"
      },
      "outputs": [],
      "source": [
        "class FashionCNN(nn.Module):\n",
        "    \n",
        "    def __init__(self):\n",
        "        super(FashionCNN, self).__init__()\n",
        "        \n",
        "        self.layer1 = nn.Sequential(\n",
        "            nn.Conv2d(in_channels=1, out_channels=10, kernel_size=3),\n",
        "            nn.BatchNorm2d(10),\n",
        "            nn.ReLU(),\n",
        "            nn.MaxPool2d(kernel_size=2, stride=2)\n",
        "        )\n",
        "\n",
        "        \n",
        "        \n",
        "        self.layer2 = nn.Sequential(\n",
        "            nn.Conv2d(in_channels=10, out_channels=20, kernel_size=3),\n",
        "            nn.BatchNorm2d(20),\n",
        "            nn.ReLU(),\n",
        "           \n",
        "        )\n",
        "        \n",
        "        self.layer3 = nn.Sequential(\n",
        "            nn.Conv2d(in_channels=20, out_channels=40, kernel_size=3),\n",
        "            nn.BatchNorm2d(40),\n",
        "            nn.ReLU(),\n",
        "           \n",
        "        )\n",
        "        self.layer4 = nn.Sequential(\n",
        "            nn.Conv2d(in_channels=40, out_channels=80, kernel_size=3),\n",
        "            nn.BatchNorm2d(80),\n",
        "            nn.ReLU(),\n",
        "            nn.MaxPool2d(2)\n",
        "        )\n",
        "        \n",
        "\n",
        "        \n",
        "        self.fc1 = nn.Linear(in_features=80*3*3, out_features=265)\n",
        "        nn.init.xavier_normal_(self.fc1.weight)\n",
        "        \n",
        "        self.drop = nn.Dropout2d(0.25)\n",
        "        self.fc2 = nn.Linear(in_features=265, out_features=5)\n",
        "        nn.init.xavier_normal_(self.fc2.weight)\n",
        "        \n",
        "        \n",
        "        \n",
        "    def forward(self, x):\n",
        "        out = self.layer1(x)\n",
        "        out = self.layer2(out)\n",
        "        out = self.layer3(out)\n",
        "        out = self.layer4(out)\n",
        "       \n",
        "        out = out.view(out.size(0), -1)\n",
        "        out = self.fc1(out)\n",
        "        out = self.drop(out)\n",
        "        out = self.fc2(out)\n",
        "       \n",
        "        \n",
        "        return out\n"
      ]
    },
    {
      "cell_type": "code",
      "execution_count": 45,
      "metadata": {
        "colab": {
          "base_uri": "https://localhost:8080/"
        },
        "id": "NILDHzNgQ1Gt",
        "outputId": "6133cda7-3ce3-45f3-c76e-c4ffcb6ae3c3"
      },
      "outputs": [
        {
          "output_type": "stream",
          "name": "stdout",
          "text": [
            "FashionCNN(\n",
            "  (layer1): Sequential(\n",
            "    (0): Conv2d(1, 10, kernel_size=(3, 3), stride=(1, 1))\n",
            "    (1): BatchNorm2d(10, eps=1e-05, momentum=0.1, affine=True, track_running_stats=True)\n",
            "    (2): ReLU()\n",
            "    (3): MaxPool2d(kernel_size=2, stride=2, padding=0, dilation=1, ceil_mode=False)\n",
            "  )\n",
            "  (layer2): Sequential(\n",
            "    (0): Conv2d(10, 20, kernel_size=(3, 3), stride=(1, 1))\n",
            "    (1): BatchNorm2d(20, eps=1e-05, momentum=0.1, affine=True, track_running_stats=True)\n",
            "    (2): ReLU()\n",
            "  )\n",
            "  (layer3): Sequential(\n",
            "    (0): Conv2d(20, 40, kernel_size=(3, 3), stride=(1, 1))\n",
            "    (1): BatchNorm2d(40, eps=1e-05, momentum=0.1, affine=True, track_running_stats=True)\n",
            "    (2): ReLU()\n",
            "  )\n",
            "  (layer4): Sequential(\n",
            "    (0): Conv2d(40, 80, kernel_size=(3, 3), stride=(1, 1))\n",
            "    (1): BatchNorm2d(80, eps=1e-05, momentum=0.1, affine=True, track_running_stats=True)\n",
            "    (2): ReLU()\n",
            "    (3): MaxPool2d(kernel_size=2, stride=2, padding=0, dilation=1, ceil_mode=False)\n",
            "  )\n",
            "  (fc1): Linear(in_features=720, out_features=265, bias=True)\n",
            "  (drop): Dropout2d(p=0.25, inplace=False)\n",
            "  (fc2): Linear(in_features=265, out_features=5, bias=True)\n",
            ")\n"
          ]
        }
      ],
      "source": [
        "model = FashionCNN()\n",
        "model.to(device)\n",
        "\n",
        "error = nn.CrossEntropyLoss()\n",
        "\n",
        "learning_rate = 0.01\n",
        "optimizer = torch.optim.Adam(model.parameters(), lr=learning_rate)\n",
        "print(model)"
      ]
    },
    {
      "cell_type": "code",
      "source": [
        "def weights_init(m):\n",
        "    if isinstance(m, nn.Conv2d):\n",
        "        torch.nn.init.xavier_uniform_(m.weight)\n",
        "\n",
        "\n",
        "model.apply(weights_init)"
      ],
      "metadata": {
        "colab": {
          "base_uri": "https://localhost:8080/"
        },
        "id": "JUvgeondAH3o",
        "outputId": "a5148645-6bcb-4f7c-ddf2-26abbc010547"
      },
      "execution_count": 46,
      "outputs": [
        {
          "output_type": "execute_result",
          "data": {
            "text/plain": [
              "FashionCNN(\n",
              "  (layer1): Sequential(\n",
              "    (0): Conv2d(1, 10, kernel_size=(3, 3), stride=(1, 1))\n",
              "    (1): BatchNorm2d(10, eps=1e-05, momentum=0.1, affine=True, track_running_stats=True)\n",
              "    (2): ReLU()\n",
              "    (3): MaxPool2d(kernel_size=2, stride=2, padding=0, dilation=1, ceil_mode=False)\n",
              "  )\n",
              "  (layer2): Sequential(\n",
              "    (0): Conv2d(10, 20, kernel_size=(3, 3), stride=(1, 1))\n",
              "    (1): BatchNorm2d(20, eps=1e-05, momentum=0.1, affine=True, track_running_stats=True)\n",
              "    (2): ReLU()\n",
              "  )\n",
              "  (layer3): Sequential(\n",
              "    (0): Conv2d(20, 40, kernel_size=(3, 3), stride=(1, 1))\n",
              "    (1): BatchNorm2d(40, eps=1e-05, momentum=0.1, affine=True, track_running_stats=True)\n",
              "    (2): ReLU()\n",
              "  )\n",
              "  (layer4): Sequential(\n",
              "    (0): Conv2d(40, 80, kernel_size=(3, 3), stride=(1, 1))\n",
              "    (1): BatchNorm2d(80, eps=1e-05, momentum=0.1, affine=True, track_running_stats=True)\n",
              "    (2): ReLU()\n",
              "    (3): MaxPool2d(kernel_size=2, stride=2, padding=0, dilation=1, ceil_mode=False)\n",
              "  )\n",
              "  (fc1): Linear(in_features=720, out_features=265, bias=True)\n",
              "  (drop): Dropout2d(p=0.25, inplace=False)\n",
              "  (fc2): Linear(in_features=265, out_features=5, bias=True)\n",
              ")"
            ]
          },
          "metadata": {},
          "execution_count": 46
        }
      ]
    },
    {
      "cell_type": "code",
      "source": [
        "from torchsummary import summary\n",
        "\n",
        "\n",
        "summary(model, input_size=( 1, 28, 28))"
      ],
      "metadata": {
        "colab": {
          "base_uri": "https://localhost:8080/"
        },
        "id": "b3Lfts19MR6T",
        "outputId": "5b812461-e352-4e48-d7ff-a1ffb3876681"
      },
      "execution_count": 47,
      "outputs": [
        {
          "output_type": "stream",
          "name": "stdout",
          "text": [
            "----------------------------------------------------------------\n",
            "        Layer (type)               Output Shape         Param #\n",
            "================================================================\n",
            "            Conv2d-1           [-1, 10, 26, 26]             100\n",
            "       BatchNorm2d-2           [-1, 10, 26, 26]              20\n",
            "              ReLU-3           [-1, 10, 26, 26]               0\n",
            "         MaxPool2d-4           [-1, 10, 13, 13]               0\n",
            "            Conv2d-5           [-1, 20, 11, 11]           1,820\n",
            "       BatchNorm2d-6           [-1, 20, 11, 11]              40\n",
            "              ReLU-7           [-1, 20, 11, 11]               0\n",
            "            Conv2d-8             [-1, 40, 9, 9]           7,240\n",
            "       BatchNorm2d-9             [-1, 40, 9, 9]              80\n",
            "             ReLU-10             [-1, 40, 9, 9]               0\n",
            "           Conv2d-11             [-1, 80, 7, 7]          28,880\n",
            "      BatchNorm2d-12             [-1, 80, 7, 7]             160\n",
            "             ReLU-13             [-1, 80, 7, 7]               0\n",
            "        MaxPool2d-14             [-1, 80, 3, 3]               0\n",
            "           Linear-15                  [-1, 265]         191,065\n",
            "        Dropout2d-16                  [-1, 265]               0\n",
            "           Linear-17                    [-1, 5]           1,330\n",
            "================================================================\n",
            "Total params: 230,735\n",
            "Trainable params: 230,735\n",
            "Non-trainable params: 0\n",
            "----------------------------------------------------------------\n",
            "Input size (MB): 0.00\n",
            "Forward/backward pass size (MB): 0.40\n",
            "Params size (MB): 0.88\n",
            "Estimated Total Size (MB): 1.28\n",
            "----------------------------------------------------------------\n"
          ]
        },
        {
          "output_type": "stream",
          "name": "stderr",
          "text": [
            "/usr/local/lib/python3.8/dist-packages/torch/nn/functional.py:1331: UserWarning: dropout2d: Received a 2-D input to dropout2d, which is deprecated and will result in an error in a future release. To retain the behavior and silence this warning, please use dropout instead. Note that dropout2d exists to provide channel-wise dropout on inputs with 2 spatial dimensions, a channel dimension, and an optional batch dimension (i.e. 3D or 4D inputs).\n",
            "  warnings.warn(warn_msg)\n"
          ]
        }
      ]
    },
    {
      "cell_type": "markdown",
      "metadata": {
        "id": "im58ZlvMvkty"
      },
      "source": [
        "## Training a network and Testing it on test dataset"
      ]
    },
    {
      "cell_type": "code",
      "source": [
        "criterion=error"
      ],
      "metadata": {
        "id": "5TWMXm0IUhqI"
      },
      "execution_count": 48,
      "outputs": []
    },
    {
      "cell_type": "code",
      "execution_count": 49,
      "metadata": {
        "colab": {
          "base_uri": "https://localhost:8080/"
        },
        "id": "SYh_6HtpUlNl",
        "outputId": "5d1ea4ca-ae58-4dce-ebd3-c71e2ec753ef"
      },
      "outputs": [
        {
          "output_type": "stream",
          "name": "stdout",
          "text": [
            "Iteration: 500, Loss: 0.12249854952096939, Accuracy: 96.2066650390625%\n",
            "Iteration: 1000, Loss: 0.015153770335018635, Accuracy: 96.78666687011719%\n",
            "Iteration: 1500, Loss: 0.014213250949978828, Accuracy: 97.04000091552734%\n",
            "Iteration: 2000, Loss: 0.0735807716846466, Accuracy: 96.22666931152344%\n",
            "Iteration: 2500, Loss: 0.08981671184301376, Accuracy: 97.41999816894531%\n",
            "Iteration: 3000, Loss: 0.049181584268808365, Accuracy: 96.44000244140625%\n",
            "Iteration: 3500, Loss: 0.0910579040646553, Accuracy: 97.11333465576172%\n",
            "Iteration: 4000, Loss: 0.14833860099315643, Accuracy: 97.05333709716797%\n",
            "Iteration: 4500, Loss: 0.03233088552951813, Accuracy: 97.42666625976562%\n"
          ]
        }
      ],
      "source": [
        "num_epochs = 5\n",
        "count = 0\n",
        "# Lists for visualization of loss and accuracy \n",
        "loss_list = []\n",
        "iteration_list = []\n",
        "accuracy_list = []\n",
        "\n",
        "# Lists for knowing classwise accuracy\n",
        "predictions_list = []\n",
        "labels_list = []\n",
        "\n",
        "test_losses=[]\n",
        "\n",
        "train_losses=[]\n",
        "\n",
        "for epoch in range(num_epochs):\n",
        "    r=0.0\n",
        "    for images, labels in train_loader:\n",
        "        # Transfering images and labels to GPU if available\n",
        "        images, labels = images.to(device), labels.to(device)\n",
        "    \n",
        "        train = Variable(images.view(100, 1, 28, 28))\n",
        "        labels = Variable(labels)\n",
        "        \n",
        "        # Forward pass \n",
        "        outputs = model(train)\n",
        "        loss = error(outputs, labels)\n",
        "        r += loss.item()\n",
        "        \n",
        "        # Initializing a gradient as 0 so there is no mixing of gradient among the batches\n",
        "        optimizer.zero_grad()\n",
        "        \n",
        "        #Propagating the error backward\n",
        "        loss.backward()\n",
        "        \n",
        "        # Optimizing the parameters\n",
        "        optimizer.step()\n",
        "    \n",
        "        count += 1\n",
        "\n",
        "        if not (count % 50):    # It's same as \"if count % 50 == 0\"\n",
        "            total = 0\n",
        "            correct = 0\n",
        "        \n",
        "            for images, labels in test_loader:\n",
        "                images, labels = images.to(device), labels.to(device)\n",
        "                labels_list.append(labels)\n",
        "            \n",
        "                test = Variable(images.view(100, 1, 28, 28))\n",
        "            \n",
        "                outputs = model(test)\n",
        "            \n",
        "                predictions = torch.max(outputs, 1)[1].to(device)\n",
        "                predictions_list.append(predictions)\n",
        "                correct += (predictions == labels).sum()\n",
        "            \n",
        "                total += len(labels)\n",
        "            \n",
        "            accuracy = correct * 100 / total\n",
        "            loss_list.append(loss.data)\n",
        "            iteration_list.append(count)\n",
        "            accuracy_list.append(accuracy)\n",
        "        \n",
        "        if not (count % 500):\n",
        "            print(\"Iteration: {}, Loss: {}, Accuracy: {}%\".format(count, loss.data, accuracy))\n",
        "    train_losses.append(r/100)   \n",
        "    \n",
        "    # Testing the model\n",
        "    test_loss = 0\n",
        "    with torch.no_grad():\n",
        "      for data, target in test_loader:\n",
        "                output = model(data.to(device))\n",
        "                loss = criterion(output, target.to(device))\n",
        "                test_loss += loss.item()\n",
        "        \n",
        "    test_loss /= len(test_loader)\n",
        "    test_losses.append(test_loss)\n",
        "        \n",
        "\n"
      ]
    },
    {
      "cell_type": "markdown",
      "metadata": {
        "id": "1xm9MZ6O0irC"
      },
      "source": [
        "### Visualizing the Loss and Accuracy with Iterations\n"
      ]
    },
    {
      "cell_type": "code",
      "source": [
        "import matplotlib.pyplot as plt"
      ],
      "metadata": {
        "id": "oSTSWB7WX_Of"
      },
      "execution_count": 50,
      "outputs": []
    },
    {
      "cell_type": "code",
      "source": [
        "plt.plot(train_losses, label='training loss')\n",
        "plt.plot(test_losses, label='testing loss')\n",
        "plt.legend()\n",
        "plt.show()"
      ],
      "metadata": {
        "colab": {
          "base_uri": "https://localhost:8080/",
          "height": 265
        },
        "id": "RU3zNdfoX9sF",
        "outputId": "b4f5a2e6-a29b-4d19-f6c9-940e2b2e3c4b"
      },
      "execution_count": 60,
      "outputs": [
        {
          "output_type": "display_data",
          "data": {
            "text/plain": [
              "<Figure size 432x288 with 1 Axes>"
            ],
            "image/png": "[encoded data removed]"
          },
          "metadata": {
            "needs_background": "light"
          }
        }
      ]
    },
    {
      "cell_type": "markdown",
      "metadata": {
        "id": "mZTkzUKn0vq3"
      },
      "source": [
        "### Looking the Accuracy in each class of FashionMNIST dataset"
      ]
    },
    {
      "cell_type": "code",
      "execution_count": 61,
      "metadata": {
        "colab": {
          "base_uri": "https://localhost:8080/"
        },
        "id": "Mq9_qes8Qg6h",
        "outputId": "a341fd82-f3d5-44e1-8a10-f955a04300dc"
      },
      "outputs": [
        {
          "output_type": "stream",
          "name": "stderr",
          "text": [
            "/usr/local/lib/python3.8/dist-packages/torch/nn/functional.py:1331: UserWarning: dropout2d: Received a 2-D input to dropout2d, which is deprecated and will result in an error in a future release. To retain the behavior and silence this warning, please use dropout instead. Note that dropout2d exists to provide channel-wise dropout on inputs with 2 spatial dimensions, a channel dimension, and an optional batch dimension (i.e. 3D or 4D inputs).\n",
            "  warnings.warn(warn_msg)\n"
          ]
        },
        {
          "output_type": "stream",
          "name": "stdout",
          "text": [
            "Accuracy of Trouser: 97.70%\n",
            "Accuracy of dress: 99.27%\n",
            "Accuracy of sandle: 98.57%\n",
            "Accuracy of sneaker: 97.10%\n",
            "Accuracy of ankle boot: 94.23%\n"
          ]
        }
      ],
      "source": [
        "class_correct = [0. for _ in range(10)]\n",
        "total_correct = [0. for _ in range(10)]\n",
        "\n",
        "with torch.no_grad():\n",
        "    for images, labels in test_loader:\n",
        "        images, labels = images.to(device), labels.to(device)\n",
        "        test = Variable(images)\n",
        "        outputs = model(test)\n",
        "        predicted = torch.max(outputs, 1)[1]\n",
        "        c = (predicted == labels).squeeze()\n",
        "        \n",
        "        for i in range(100):\n",
        "            label = labels[i]\n",
        "            class_correct[label] += c[i].item()\n",
        "            total_correct[label] += 1\n",
        "        \n",
        "for i in range(5):\n",
        "    print(\"Accuracy of {}: {:.2f}%\".format(output_label(i), class_correct[i] * 100 / total_correct[i]))"
      ]
    },
    {
      "cell_type": "code",
      "source": [
        "lt_embed = []\n",
        "lt_lb = []\n",
        "ln = 0 \n",
        "with torch.no_grad():\n",
        "  for img, lb in test_loader:\n",
        "    embed = model(Variable(images.view(100, 1, 28, 28)))\n",
        "    lt_embed.append(embed.cpu())\n",
        "    lt_lb.append(lb)\n",
        "    ln+=len(img)\n",
        "    if(ln>=1000):\n",
        "      break\n",
        "embed_tensor = torch.cat(lt_embed)\n",
        "label_tensor = torch.cat(lt_lb) \n",
        "from sklearn.manifold import TSNE\n",
        "\n",
        "tsne = TSNE(n_components=2, random_state=0)\n",
        "tsne_data = tsne.fit_transform(embed_tensor) \n",
        "\n",
        "import numpy as np\n",
        "scatter_x = tsne_data[:,0]\n",
        "scatter_y = tsne_data[:,1]\n",
        "group = label_tensor\n",
        "\n",
        "fig, ax = plt.subplots(figsize=(7, 7))\n",
        "for g in np.unique(group):\n",
        "    ix = np.where(group == g)\n",
        "    ax.scatter(scatter_x[ix], scatter_y[ix],  label = g)\n",
        "ax.legend()\n",
        "plt.show()"
      ],
      "metadata": {
        "colab": {
          "base_uri": "https://localhost:8080/",
          "height": 497
        },
        "id": "sNsBarCiYiP1",
        "outputId": "1dae993c-62e0-4604-af3f-949f13da8e6b"
      },
      "execution_count": 53,
      "outputs": [
        {
          "output_type": "stream",
          "name": "stderr",
          "text": [
            "/usr/local/lib/python3.8/dist-packages/sklearn/manifold/_t_sne.py:780: FutureWarning: The default initialization in TSNE will change from 'random' to 'pca' in 1.2.\n",
            "  warnings.warn(\n",
            "/usr/local/lib/python3.8/dist-packages/sklearn/manifold/_t_sne.py:790: FutureWarning: The default learning rate in TSNE will change from 200.0 to 'auto' in 1.2.\n",
            "  warnings.warn(\n"
          ]
        },
        {
          "output_type": "display_data",
          "data": {
            "text/plain": [
              "<Figure size 504x504 with 1 Axes>"
            ],
            "image/png": "[encoded data removed]"
          },
          "metadata": {
            "needs_background": "light"
          }
        }
      ]
    },
    {
      "cell_type": "markdown",
      "metadata": {
        "id": "ZxZhix0v0_KZ"
      },
      "source": [
        "### Printing the Confusion Matrix "
      ]
    },
    {
      "cell_type": "code",
      "execution_count": 54,
      "metadata": {
        "id": "GXme4c22cii2"
      },
      "outputs": [],
      "source": [
        "from itertools import chain \n",
        "\n",
        "predictions_l = [predictions_list[i].tolist() for i in range(len(predictions_list))]\n",
        "labels_l = [labels_list[i].tolist() for i in range(len(labels_list))]\n",
        "predictions_l = list(chain.from_iterable(predictions_l))\n",
        "labels_l = list(chain.from_iterable(labels_l))"
      ]
    },
    {
      "cell_type": "code",
      "source": [
        "import sklearn.metrics as metrics\n",
        "\n",
        "confusion_matrix(labels_l, predictions_l)\n",
        "print(\"Classification report for CNN :\\n%s\\n\"\n",
        "      % (metrics.classification_report(labels_l, predictions_l)))"
      ],
      "metadata": {
        "colab": {
          "base_uri": "https://localhost:8080/"
        },
        "id": "CYFp21xpeqbb",
        "outputId": "e38ff08c-328d-4900-8457-9d23ddd3cdcf"
      },
      "execution_count": 55,
      "outputs": [
        {
          "output_type": "stream",
          "name": "stdout",
          "text": [
            "Classification report for CNN :\n",
            "              precision    recall  f1-score   support\n",
            "\n",
            "           0       0.99      0.97      0.98    270000\n",
            "           1       0.97      0.99      0.98    270000\n",
            "           2       0.97      0.96      0.97    270000\n",
            "           3       0.94      0.95      0.94    270000\n",
            "           4       0.96      0.95      0.95    270000\n",
            "\n",
            "    accuracy                           0.96   1350000\n",
            "   macro avg       0.96      0.96      0.96   1350000\n",
            "weighted avg       0.96      0.96      0.96   1350000\n",
            "\n",
            "\n"
          ]
        }
      ]
    },
    {
      "cell_type": "code",
      "source": [
        "labels_l"
      ],
      "metadata": {
        "id": "soVE6X0Zg789"
      },
      "execution_count": null,
      "outputs": []
    },
    {
      "cell_type": "code",
      "source": [
        "def accuracy(l, p):\n",
        "    correct = 0\n",
        "    for i in range(len(l)):\n",
        "        if l[i] == p[i]:\n",
        "            correct += 1\n",
        "    return correct / len(l)"
      ],
      "metadata": {
        "id": "ZlvvCkfAg-5s"
      },
      "execution_count": 57,
      "outputs": []
    },
    {
      "cell_type": "code",
      "source": [
        "a=accuracy(labels_l, predictions_l)"
      ],
      "metadata": {
        "id": "IkLAfY2QheJN"
      },
      "execution_count": 58,
      "outputs": []
    },
    {
      "cell_type": "code",
      "source": [
        "a*100"
      ],
      "metadata": {
        "colab": {
          "base_uri": "https://localhost:8080/"
        },
        "id": "Bi4WGVrIhshs",
        "outputId": "91e6cf34-4036-48bd-bf0a-9b19d5cbbd92"
      },
      "execution_count": 59,
      "outputs": [
        {
          "output_type": "execute_result",
          "data": {
            "text/plain": [
              "96.47785185185185"
            ]
          },
          "metadata": {},
          "execution_count": 59
        }
      ]
    },
    {
      "cell_type": "markdown",
      "metadata": {
        "id": "1rm65OztSCpF"
      },
      "source": [
        "# **Autoencoder**"
      ]
    },
    {
      "cell_type": "code",
      "execution_count": 66,
      "metadata": {
        "id": "-1_8VZgpEtea"
      },
      "outputs": [],
      "source": [
        "import numpy as np\n",
        "import pandas as pd\n",
        "import matplotlib.pyplot as plt\n",
        "\n",
        "import torch\n",
        "import torch.nn as nn\n",
        "from torch.autograd import Variable\n",
        "\n",
        "import torchvision\n",
        "import torchvision.transforms as transforms\n",
        "from torch.utils.data import Dataset, DataLoader\n",
        "from sklearn.metrics import confusion_matrix"
      ]
    },
    {
      "cell_type": "code",
      "execution_count": 67,
      "metadata": {
        "id": "q6btjJ9YTXXw"
      },
      "outputs": [],
      "source": [
        "device = torch.device(\"cuda:0\" if torch.cuda.is_available() else \"cpu\")"
      ]
    },
    {
      "cell_type": "code",
      "execution_count": 68,
      "metadata": {
        "id": "zM618_wYGM0n"
      },
      "outputs": [],
      "source": [
        "\n",
        "train_set = torchvision.datasets.FashionMNIST(\"./data\", download=True, transform=\n",
        "                                                transforms.Compose([transforms.ToTensor()]))\n",
        "test_set = torchvision.datasets.FashionMNIST(\"./data\", download=True, train=False, transform=\n",
        "                                               transforms.Compose([transforms.ToTensor()]))  \n",
        "                                             "
      ]
    },
    {
      "cell_type": "code",
      "source": [
        "def filter(train_dataset) : \n",
        "      \n",
        "\n",
        "      new_train_target=[]\n",
        "      for label in train_dataset.targets:\n",
        "        if(label.item()==1):\n",
        "          tensor = torch.tensor([0])\n",
        "          new_train_target.append(tensor.squeeze(0))\n",
        "        if(label.item()==3):\n",
        "          tensor = torch.tensor([1])\n",
        "          new_train_target.append(tensor.squeeze(0))\n",
        "\n",
        "        if(label.item()==5):\n",
        "          tensor = torch.tensor([2])\n",
        "          new_train_target.append(tensor.squeeze(0))\n",
        "\n",
        "        if(label.item()==7):\n",
        "          tensor = torch.tensor([3])\n",
        "          new_train_target.append(tensor.squeeze(0))\n",
        "\n",
        "        if(label.item()==9):\n",
        "          tensor = torch.tensor([4])\n",
        "          new_train_target.append(tensor.squeeze(0))\n",
        "          \n",
        "        if(label.item()==0):\n",
        "          tensor = torch.tensor([20])\n",
        "          new_train_target.append(tensor.squeeze(0))\n",
        "        if(label.item()==2):\n",
        "          tensor = torch.tensor([21])\n",
        "          new_train_target.append(tensor.squeeze(0))\n",
        "\n",
        "        if(label.item()==4):\n",
        "          tensor = torch.tensor([22])\n",
        "          new_train_target.append(tensor.squeeze(0))\n",
        "\n",
        "        if(label.item()==6):\n",
        "          tensor = torch.tensor([23])\n",
        "          new_train_target.append(tensor.squeeze(0))\n",
        "\n",
        "        if(label.item()==8):\n",
        "          tensor = torch.tensor([24])\n",
        "          new_train_target.append(tensor.squeeze(0))\n",
        "\n",
        "\n",
        "        train_dataset.targets=new_train_target  \n",
        "\n",
        "      return train_dataset"
      ],
      "metadata": {
        "id": "6CvKH1oAZc4n"
      },
      "execution_count": 69,
      "outputs": []
    },
    {
      "cell_type": "code",
      "source": [
        "train_set=filter(train_set)\n",
        "test_set=filter(test_set)"
      ],
      "metadata": {
        "id": "I_vGtlkkdmHG"
      },
      "execution_count": 70,
      "outputs": []
    },
    {
      "cell_type": "code",
      "source": [
        "indices=[]\n",
        "l=[0,1,2,3,4]\n",
        "for i in range(len(train_set.targets)):\n",
        "  if(train_set.targets[i] in l ):\n",
        "    indices.append(i)\n",
        "\n"
      ],
      "metadata": {
        "id": "p5oRVgPwT_wi"
      },
      "execution_count": 71,
      "outputs": []
    },
    {
      "cell_type": "code",
      "source": [
        "len(indices)"
      ],
      "metadata": {
        "colab": {
          "base_uri": "https://localhost:8080/"
        },
        "id": "_9u7DdFLVsxY",
        "outputId": "dbb67e71-87a4-4b03-93f5-b9b5db89be8f"
      },
      "execution_count": 72,
      "outputs": [
        {
          "output_type": "execute_result",
          "data": {
            "text/plain": [
              "30000"
            ]
          },
          "metadata": {},
          "execution_count": 72
        }
      ]
    },
    {
      "cell_type": "code",
      "source": [
        "from torch.utils.data import Subset\n",
        "\n",
        "\n",
        "subset = Subset(train_set, indices)\n",
        "\n",
        "# Use the Subset as a dataset in your data loader\n",
        "train_loader = torch.utils.data.DataLoader(subset, batch_size=100, shuffle=True)"
      ],
      "metadata": {
        "id": "G1EGPKfUTRS4"
      },
      "execution_count": 73,
      "outputs": []
    },
    {
      "cell_type": "code",
      "source": [
        "indices=[]\n",
        "l=[0,1,2,3,4]\n",
        "for i in range(len(test_set.targets)):\n",
        "  if(test_set.targets[i] in l ):\n",
        "    indices.append(i)\n",
        "subset2 = Subset(test_set, indices)  \n",
        "test_loader = torch.utils.data.DataLoader(subset2, batch_size=100, shuffle=True)  \n"
      ],
      "metadata": {
        "id": "_aF2flbFV6tw"
      },
      "execution_count": 74,
      "outputs": []
    },
    {
      "cell_type": "code",
      "source": [
        "len(indices)"
      ],
      "metadata": {
        "colab": {
          "base_uri": "https://localhost:8080/"
        },
        "id": "NfPlwyTJWPXY",
        "outputId": "a0a97cac-6573-499b-8fc5-96f42986098d"
      },
      "execution_count": 75,
      "outputs": [
        {
          "output_type": "execute_result",
          "data": {
            "text/plain": [
              "5000"
            ]
          },
          "metadata": {},
          "execution_count": 75
        }
      ]
    },
    {
      "cell_type": "code",
      "source": [
        "def addnoise(tensor):\n",
        "  return tensor + torch.randn(tensor.size()) * 0.3081 + 0.1307 "
      ],
      "metadata": {
        "id": "SwVyxUhFrQHf"
      },
      "execution_count": 76,
      "outputs": []
    },
    {
      "cell_type": "code",
      "source": [
        "import torch\n",
        "import torch.nn as nn\n",
        "import torch.optim as optim\n",
        "from torchvision import datasets, transforms\n",
        "\n",
        "\n",
        "\n",
        "# Define the autoencoder model\n",
        "class Autoencoder(nn.Module):\n",
        "    def __init__(self):\n",
        "        super(Autoencoder, self).__init__()\n",
        "        \n",
        "        self.encoder = nn.Sequential(\n",
        "            nn.Linear(28*28, 512),\n",
        "            nn.ReLU(),\n",
        "            nn.Linear(512, 256),\n",
        "            nn.ReLU(),\n",
        "            nn.Linear(256, 64),\n",
        "            nn.ReLU(),\n",
        "            \n",
        "        )\n",
        "        \n",
        "        self.decoder = nn.Sequential(\n",
        "            \n",
        "            nn.Linear(64, 256),\n",
        "            nn.ReLU(),\n",
        "            nn.Linear(256, 512),\n",
        "            nn.ReLU(),\n",
        "            nn.Linear(512, 28*28),\n",
        "            nn.ReLU()\n",
        "        )\n",
        "        \n",
        "    def forward(self, x):\n",
        "        x=x.view(-1,28*28)\n",
        "        x = self.encoder(x)\n",
        "        x = self.decoder(x)\n",
        "        return x\n",
        "\n",
        "# Initialize the model and the optimizer\n",
        "model = Autoencoder()\n",
        "optimizer = optim.Adam(model.parameters(), lr=0.001)\n",
        "\n",
        "# Define the loss function\n",
        "criterion = nn.MSELoss()\n",
        "\n",
        "# Train the model\n",
        "for epoch in range(10):\n",
        "    for data in train_loader:\n",
        "        img, _ = data\n",
        "\n",
        "\n",
        "        noisy_img = addnoise(img)\n",
        "        \n",
        "        optimizer.zero_grad()\n",
        "        output = model(noisy_img)\n",
        "        loss = criterion(output, img.view(-1,28*28))\n",
        "        loss.backward()\n",
        "        optimizer.step()\n",
        "        \n",
        "    print(\"Epoch: {} Loss: {}\".format(epoch, loss.item()))"
      ],
      "metadata": {
        "colab": {
          "base_uri": "https://localhost:8080/"
        },
        "id": "Cfu8VMkLrCpI",
        "outputId": "5c627430-6a0e-4914-ca58-99c4dc3bd6dc"
      },
      "execution_count": 77,
      "outputs": [
        {
          "output_type": "stream",
          "name": "stdout",
          "text": [
            "Epoch: 0 Loss: 0.03277413547039032\n",
            "Epoch: 1 Loss: 0.02590009570121765\n",
            "Epoch: 2 Loss: 0.023731328547000885\n",
            "Epoch: 3 Loss: 0.023477885872125626\n",
            "Epoch: 4 Loss: 0.02047160640358925\n",
            "Epoch: 5 Loss: 0.019423747435212135\n",
            "Epoch: 6 Loss: 0.02007332630455494\n",
            "Epoch: 7 Loss: 0.019281409680843353\n",
            "Epoch: 8 Loss: 0.018520096316933632\n",
            "Epoch: 9 Loss: 0.020396793261170387\n"
          ]
        }
      ]
    },
    {
      "cell_type": "code",
      "source": [
        "from torchsummary import summary\n",
        "\n",
        "\n",
        "summary(Autoencoder(), input_size=( 1, 28, 28))"
      ],
      "metadata": {
        "colab": {
          "base_uri": "https://localhost:8080/"
        },
        "id": "SX6kRWZY7UY6",
        "outputId": "0804d824-2df8-4c15-e7be-5345b56de6c1"
      },
      "execution_count": 78,
      "outputs": [
        {
          "output_type": "stream",
          "name": "stdout",
          "text": [
            "----------------------------------------------------------------\n",
            "        Layer (type)               Output Shape         Param #\n",
            "================================================================\n",
            "            Linear-1                  [-1, 512]         401,920\n",
            "              ReLU-2                  [-1, 512]               0\n",
            "            Linear-3                  [-1, 256]         131,328\n",
            "              ReLU-4                  [-1, 256]               0\n",
            "            Linear-5                   [-1, 64]          16,448\n",
            "              ReLU-6                   [-1, 64]               0\n",
            "            Linear-7                  [-1, 256]          16,640\n",
            "              ReLU-8                  [-1, 256]               0\n",
            "            Linear-9                  [-1, 512]         131,584\n",
            "             ReLU-10                  [-1, 512]               0\n",
            "           Linear-11                  [-1, 784]         402,192\n",
            "             ReLU-12                  [-1, 784]               0\n",
            "================================================================\n",
            "Total params: 1,100,112\n",
            "Trainable params: 1,100,112\n",
            "Non-trainable params: 0\n",
            "----------------------------------------------------------------\n",
            "Input size (MB): 0.00\n",
            "Forward/backward pass size (MB): 0.04\n",
            "Params size (MB): 4.20\n",
            "Estimated Total Size (MB): 4.24\n",
            "----------------------------------------------------------------\n"
          ]
        }
      ]
    },
    {
      "cell_type": "code",
      "source": [
        "# Remove the decoder part of the autoencoder\n",
        "encoder = nn.Sequential(*list(model.children())[:-1])\n",
        "\n",
        "# Define a new fully connected layer for the classification tas\n",
        "classifier = nn.Sequential(\n",
        "           nn.Linear(64,512),\n",
        "            nn.Linear(512,5),\n",
        "            nn.Softmax(dim=1)\n",
        "        )\n",
        "\n",
        "# Define a loss function and optimizer for the classification task\n",
        "criterion = nn.CrossEntropyLoss()\n",
        "optimizer = torch.optim.Adam(list(encoder.parameters()) + list(classifier.parameters()), lr=0.001)\n",
        "\n",
        "\n",
        "# Train the classifier using the features from the encoder\n",
        "losses=[]\n",
        "test_losses = []\n",
        "for epoch in range(20):\n",
        "    r=0.0\n",
        "    for data in train_loader:\n",
        "        img, labels = data\n",
        "      \n",
        "        # Use the encoder to extract features from the images\n",
        "        features = encoder(img.view(-1,28*28))\n",
        "        # Forward pass\n",
        "        output = classifier(features)\n",
        "        # Compute the loss\n",
        "        loss = criterion(output, labels)\n",
        "        # Backward and optimize\n",
        "        r=r+loss.item()\n",
        "        optimizer.zero_grad()\n",
        "        loss.backward()\n",
        "        optimizer.step()\n",
        "    losses.append(r/64)    \n",
        "\n",
        "    test_loss = 0\n",
        "    with torch.no_grad():\n",
        "        for data, target in test_loader:\n",
        "            output = model(data)\n",
        "            loss = criterion(output, target)\n",
        "            test_loss += loss.item()\n",
        "    \n",
        "    test_loss /= len(test_loader)\n",
        "    test_losses.append(test_loss)\n",
        "    print('epoch [{}/{}], loss:{:.4f}'.format(epoch + 1, 50, loss.item()))"
      ],
      "metadata": {
        "colab": {
          "base_uri": "https://localhost:8080/"
        },
        "id": "Pv03dkNtsMHg",
        "outputId": "4a7974e4-e753-4d3a-c7eb-a135d4ca4112"
      },
      "execution_count": 79,
      "outputs": [
        {
          "output_type": "stream",
          "name": "stdout",
          "text": [
            "epoch [1/50], loss:7.1754\n",
            "epoch [2/50], loss:7.1394\n",
            "epoch [3/50], loss:7.1884\n",
            "epoch [4/50], loss:7.1426\n",
            "epoch [5/50], loss:7.1673\n",
            "epoch [6/50], loss:7.1171\n",
            "epoch [7/50], loss:7.3821\n",
            "epoch [8/50], loss:7.2457\n",
            "epoch [9/50], loss:7.2609\n",
            "epoch [10/50], loss:7.1209\n",
            "epoch [11/50], loss:7.3883\n",
            "epoch [12/50], loss:7.2881\n",
            "epoch [13/50], loss:7.3316\n",
            "epoch [14/50], loss:7.9803\n",
            "epoch [15/50], loss:7.6333\n",
            "epoch [16/50], loss:7.7172\n",
            "epoch [17/50], loss:8.0386\n",
            "epoch [18/50], loss:7.7396\n",
            "epoch [19/50], loss:8.0265\n",
            "epoch [20/50], loss:8.0832\n"
          ]
        }
      ]
    },
    {
      "cell_type": "code",
      "source": [
        "import matplotlib.pyplot as plt"
      ],
      "metadata": {
        "id": "IEbmWbsJ5ayr"
      },
      "execution_count": 80,
      "outputs": []
    },
    {
      "cell_type": "code",
      "source": [
        "plt.plot(losses, label='training loss')\n",
        "plt.plot(test_losses, label='testing loss')\n",
        "plt.legend()\n",
        "plt.show()"
      ],
      "metadata": {
        "id": "f3Ww00v95Vvy",
        "colab": {
          "base_uri": "https://localhost:8080/",
          "height": 265
        },
        "outputId": "fff05f01-3d6c-4c6f-d228-6be456eb3a3a"
      },
      "execution_count": 81,
      "outputs": [
        {
          "output_type": "display_data",
          "data": {
            "text/plain": [
              "<Figure size 432x288 with 1 Axes>"
            ],
            "image/png": "[encoded data removed]"
          },
          "metadata": {
            "needs_background": "light"
          }
        }
      ]
    },
    {
      "cell_type": "code",
      "source": [
        "correct = 0\n",
        "total = 0\n",
        "losses=[]\n",
        "with torch.no_grad():\n",
        "    for data in test_loader:\n",
        "        img, label = data\n",
        "        features = encoder(img.view(-1,28*28))\n",
        "        # Forward pass\n",
        "        output = classifier(features)\n",
        "        # Compute the loss\n",
        "        \n",
        "        loss = criterion(output, label)\n",
        "        losses.append(loss.item())\n",
        "        _, predicted = torch.max(output.data, 1)\n",
        "        total += label.size(0)\n",
        "        correct += (predicted == label).sum().item()\n",
        "\n",
        "print(\"Test accuracy: {:.2f}%\".format(100 * correct / total))"
      ],
      "metadata": {
        "colab": {
          "base_uri": "https://localhost:8080/"
        },
        "id": "rrCv0M-wsjP_",
        "outputId": "1f36fe3f-c4c9-4516-e4e1-4fbed9e2e55c"
      },
      "execution_count": 82,
      "outputs": [
        {
          "output_type": "stream",
          "name": "stdout",
          "text": [
            "Test accuracy: 95.98%\n"
          ]
        }
      ]
    },
    {
      "cell_type": "code",
      "source": [
        "import matplotlib.pyplot as plt"
      ],
      "metadata": {
        "id": "jWFT5rMJtNKX"
      },
      "execution_count": 83,
      "outputs": []
    },
    {
      "cell_type": "code",
      "source": [
        "lt_embed = []\n",
        "lt_lb = []\n",
        "ln = 0 \n",
        "with torch.no_grad():\n",
        "  for img, lb in test_loader:\n",
        "    embed = model.encoder(img.view(-1, 784))\n",
        "    lt_embed.append(embed.cpu())\n",
        "    lt_lb.append(lb)\n",
        "    ln+=len(img)\n",
        "    if(ln>=1000):\n",
        "      break\n",
        "embed_tensor = torch.cat(lt_embed)\n",
        "label_tensor = torch.cat(lt_lb) \n",
        "from sklearn.manifold import TSNE\n",
        "\n",
        "tsne = TSNE(n_components=2, random_state=0)\n",
        "tsne_data = tsne.fit_transform(embed_tensor) \n",
        "\n",
        "import numpy as np\n",
        "scatter_x = tsne_data[:,0]\n",
        "scatter_y = tsne_data[:,1]\n",
        "group = label_tensor\n",
        "\n",
        "fig, ax = plt.subplots(figsize=(7, 7))\n",
        "for g in np.unique(group):\n",
        "    ix = np.where(group == g)\n",
        "    ax.scatter(scatter_x[ix], scatter_y[ix],  label = g)\n",
        "ax.legend()\n",
        "plt.show()"
      ],
      "metadata": {
        "colab": {
          "base_uri": "https://localhost:8080/",
          "height": 497
        },
        "id": "VQm5BSkk8dWo",
        "outputId": "a6333b4f-2560-4e04-b379-3c089c7fad09"
      },
      "execution_count": 84,
      "outputs": [
        {
          "output_type": "stream",
          "name": "stderr",
          "text": [
            "/usr/local/lib/python3.8/dist-packages/sklearn/manifold/_t_sne.py:780: FutureWarning: The default initialization in TSNE will change from 'random' to 'pca' in 1.2.\n",
            "  warnings.warn(\n",
            "/usr/local/lib/python3.8/dist-packages/sklearn/manifold/_t_sne.py:790: FutureWarning: The default learning rate in TSNE will change from 200.0 to 'auto' in 1.2.\n",
            "  warnings.warn(\n"
          ]
        },
        {
          "output_type": "display_data",
          "data": {
            "text/plain": [
              "<Figure size 504x504 with 1 Axes>"
            ],
            "image/png": "[encoded data removed]"
          },
          "metadata": {
            "needs_background": "light"
          }
        }
      ]
    },
    {
      "cell_type": "markdown",
      "metadata": {
        "id": "4Y9pGNv64UYl"
      },
      "source": [
        "### This is my implementation of deep learning in FashionMNIST dataset using Pytorch. I've achieved 93% test accuracy. Change those layer architecture or parameters to make it better. \n",
        "***I hope you like it. Give your feedback. It helps me to a lot. Thank you. :)***"
      ]
    }
  ],
  "metadata": {
    "colab": {
      "provenance": []
    },
    "kernelspec": {
      "display_name": "Python 3",
      "language": "python",
      "name": "python3"
    },
    "language_info": {
      "codemirror_mode": {
        "name": "ipython",
        "version": 3
      },
      "file_extension": ".py",
      "mimetype": "text/x-python",
      "name": "python",
      "nbconvert_exporter": "python",
      "pygments_lexer": "ipython3",
      "version": "3.7.3"
    },
    "gpuClass": "standard"
  },
  "nbformat": 4,
  "nbformat_minor": 0
}